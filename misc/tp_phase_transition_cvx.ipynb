{
 "cells": [
  {
   "cell_type": "markdown",
   "metadata": {},
   "source": [
    "# Phase transition diagrams for the Basis Pursuit via the cvxopt package for linear programming (python 3.5)\n",
    "\n",
    "$\\newcommand{\\eps}{\\varepsilon}$\n",
    "$\\newcommand{\\R}{\\mathbb{R}}$\n",
    "$\\newcommand{\\bR}{\\mathbb{R}}$\n",
    "$\\newcommand{\\cC}{\\mathbb{C}}$\n",
    "$\\newcommand{\\1}{{\\rm 1}\\kern-0.24em{\\rm I}}$\n",
    "$\\newcommand{\\inr}[1]{\\bigl< #1 \\bigr>}$\n",
    "$\\newcommand{\\norm}[1]{\\|#1\\|}$\n",
    "$\\newcommand{\\abs}[1]{\\left|#1\\right|}$\n",
    "$\\DeclareMathOperator*{\\argmin}{argmin}$\n"
   ]
  },
  {
   "cell_type": "markdown",
   "metadata": {},
   "source": [
    "In this notebook, **phase transition diagrams** of the  $\\ell_1$ minimization procedure Basis Pursuit (BP)  are drawn for various type of random measurements matrices and also for matrices constructed from the *cover by $3$-sets problem* used to show that $\\ell_0$-minimization is NP-hard.\n",
    "\n",
    "An example of a phase transition diagram is as follows\n",
    "<img src=\"exp_power_1_100.png\">\n",
    "In this example, we are interested in the reconstruction of sparse signals of size $N=100$. For every pixel indexed by a couple $(m,s)$ ($m$: number of measurements, $s$: sparsity parameter), we construct $15$ signals in $\\R^N$ with sparsity $s$ and we observed $m$ linear measurements for each one of those signals. In the example, the measurement vectors were constructed from $N$ i.i.d. *exponential symmetric* random variables. Every time the Basis Pursuit procedure (implemented here via cvx LP solver) reconstructs all of the $15$ signals, a red pixel is drawn. When none of the $15$ signals are recovered a blue pixel is drawn. And for every results in between, an other color is drawn. \n",
    "\n",
    "Phase transition diagrams are used for at least two reasons:\n",
    "> 1) compare procedures (like BP, IHT, OMP, etc) and algorithms used to implement those procedures\n",
    "\n",
    ">2) compare measurement matrices (constructed from various random variables or structured measurements or determinsitic matrices)\n",
    "\n",
    "The idea is that procedures / algorithms / measurement matrices are better when their phase transition curves (obtained when the number of failures becomes larger than the number of successes) are lower. For instance, below are plotted phase transition curves for various measurements matrices.\n",
    "<img src=\"phase_transition_curves_exp_power_100_v3.png\">\n",
    "One can see that measurements matrices with *exponential power $2$* are better."
   ]
  },
  {
   "cell_type": "markdown",
   "metadata": {},
   "source": [
    "In this notebook, we consider the Basis Pursuit procedure -- (BP). It can be recast to a linear program. We use the optimization library *cvxopt* to solve this linear program. An introduction to this library is provided for pedagogical purpose."
   ]
  },
  {
   "cell_type": "code",
   "execution_count": 44,
   "metadata": {
    "collapsed": true
   },
   "outputs": [],
   "source": [
    "import numpy as np\n",
    "import matplotlib.pylab as plt\n",
    "from sklearn.utils import shuffle\n",
    "\n",
    "%matplotlib inline"
   ]
  },
  {
   "cell_type": "markdown",
   "metadata": {},
   "source": [
    "## Compressed sensing -- presentation of the problem\n",
    "In Compressed sensing, one is given a measurement matrice $A\\in\\R^{m\\times N}$ and a measures vector $y=Ax$ of some unknown signal $x\\in\\R^N$. We want to reconstruct exactly $x$ given $y$ and $A$. \n",
    "\n",
    "One way to look at this problem is as a highly underdetermined linear system: one has $m$ equations but $N>>m$ unknown variables. So what is going to save the day is that the signal to recover has a short support of size $s$ where $s<<N$. \n",
    "\n",
    "A classical procedure is the Basis Pursuit:\n",
    "$$ \\hat x \\in\\argmin_{t\\in\\R^N: At = y}\\norm{t}_1.$$\n",
    "This procedure is searching for the vector with the smallest $\\ell_1$-norm in the set of solutions to the equation $Ax=y$."
   ]
  },
  {
   "cell_type": "markdown",
   "metadata": {},
   "source": [
    "## Construction and representation of signals\n",
    "In this section, we construct $s$-sparse vectors in $\\R^N$ and find a good vizualization of those signals."
   ]
  },
  {
   "cell_type": "code",
   "execution_count": 192,
   "metadata": {
    "collapsed": true
   },
   "outputs": [],
   "source": [
    "def signal(N, s):\n",
    "    \"\"\"Construct a signal of lenght N with s gaussian variables localized randomly and zeros everywhere else\"\"\"\n",
    "    # Vecteurs denses\n",
    "    x_dense = np.random.normal(0., 1., s)\n",
    "    # Vecteur sparse\n",
    "    x_sparse = np.zeros(N-s)\n",
    "    # Concaténer les deux \n",
    "    x = np.concatenate((x_dense, x_sparse),axis = 0)\n",
    "    # Retourner le vecteur avec des entrées \"randomisées\"\n",
    "    return shuffle(x, random_state = 42)"
   ]
  },
  {
   "cell_type": "code",
   "execution_count": 197,
   "metadata": {},
   "outputs": [],
   "source": [
    "x = signal(10,1)"
   ]
  },
  {
   "cell_type": "code",
   "execution_count": 198,
   "metadata": {},
   "outputs": [
    {
     "data": {
      "text/plain": [
       "Text(0.5,1,'Représentation du vecteur x')"
      ]
     },
     "execution_count": 198,
     "metadata": {},
     "output_type": "execute_result"
    },
    {
     "data": {
      "image/png": "[encoded data removed]",
      "text/plain": [
       "<matplotlib.figure.Figure at 0x12645ccc0>"
      ]
     },
     "metadata": {},
     "output_type": "display_data"
    }
   ],
   "source": [
    "plt.stem(x)\n",
    "titre = 'Représentation du vecteur x'\n",
    "plt.title(titre)"
   ]
  },
  {
   "cell_type": "markdown",
   "metadata": {},
   "source": [
    "## Construction of measurements matrices\n",
    "We construct various random measurement matrices:  \n",
    "\n",
    "1) The first one is constructed using power of Gaussian random variables: that is the measurement matrix $A$ is populated with i.i.d. random variables like $${\\rm sign}(g) |g|^p$$ where $g$ is a standard Gaussian variable and $p\\geq1$ is some power.\n",
    "\n",
    "2) The second one are Student variable with degree $p$. That is a random variable absolutly continuous with a density of the order of  $(1+t)^{-(p+1)}$."
   ]
  },
  {
   "cell_type": "code",
   "execution_count": 199,
   "metadata": {},
   "outputs": [],
   "source": [
    "def measurement_matrix(m, N, rand_type = \"gauss\", power = 2):\n",
    "    \"\"\"Construct a random matrix of size (m, N) for various type of random entries\"\"\"\n",
    "\n",
    "    X = np.empty((m,N))\n",
    "\n",
    "    if rand_type == \"gauss\":\n",
    "        for i in range(m):\n",
    "            for j in range(N):\n",
    "                g = np.random.normal(0.,1.)\n",
    "                X[i,j] = np.sign(g) * abs(g)**power\n",
    "        return X\n",
    "    elif rand_type == \"student\":\n",
    "        for i in range(m):\n",
    "            for j in range(N):\n",
    "                X[i,j] = np.random.standard_t(power)\n",
    "        return X\n",
    "    else : \n",
    "        return None"
   ]
  },
  {
   "cell_type": "code",
   "execution_count": 200,
   "metadata": {},
   "outputs": [],
   "source": [
    "A = measurement_matrix(2, 10, rand_type = \"gauss\")#, power = 4)"
   ]
  },
  {
   "cell_type": "markdown",
   "metadata": {},
   "source": [
    "## Basis Pursuit as a linear program\n",
    "One can recast the Basis Pursuit procedure as a linear program. \n",
    "\n",
    "Let $A\\in\\R^{m\\times N}$ be a measurements matrix and $y\\in\\R^m$ be a measurements vector. We consider the following linear programming problem (LP):\n",
    "\n",
    "\n",
    "> $$\\min_{z^+,z^-\\in\\bR^N} \\sum_{j=1}^n z_i^+ + z_i^-$$\n",
    "\n",
    "> subject to $$ [A|-A]\\left[\\begin{array}{c} z^+\\\\ z^-\\end{array}\\right] = y \\mbox{ and } \\left[\\begin{array}{c} z^+\\\\ z^-\\end{array}\\right]\\geq 0 $$\n",
    "\n",
    "\n",
    "\n",
    "For any $x\\in\\R^N$, we denote by  $x^+\\in\\R^N$ and $x^-\\in\\R^N$ vectors with coordinates given for any $j=1,\\ldots,N$ by \n",
    "\n",
    "\\begin{equation*}\n",
    "(x^+)_j = \\max(0,x_j) \\mbox{ et } (x^-)_j = \\max(0,-x_j).\n",
    "\\end{equation*}\n",
    "\n",
    "There is equivalence between the Basis Pursuit procedure and (LP) in the following way: \n",
    "\n",
    ">\tIf $\\hat x$ is a solution to (BP) then $(\\hat x^+, \\hat x^-)$ is solution to (LP)\n",
    "\n",
    ">\tIf $(\\hat z^+, \\hat z^-)$ is a solution to (LP) then $\\hat z^+-\\hat z^-$ is solution to (BP).\n",
    "\n",
    "\n"
   ]
  },
  {
   "cell_type": "markdown",
   "metadata": {},
   "source": [
    "# Import cvxopt library for solving linear programming problems\n",
    "\n",
    "**CVXOPT** is a very powerfull library for solving various type of convex optimization problems. We refer to examples from <a href=\"http://cvxopt.org/userguide/solvers.html#problems-with-nonlinear-objectives\">Non-linear convex optimization</a> and <a href=\"http://www.xavierdupre.fr/app/ensae_teaching_cs/helpsphinx3/notebooks/td1a_cenonce_session9.html\"> Xavier's TD9 </a>.\n",
    "\n",
    "*solvers.cp* solves non-linear convex optimization problems with twices differentiable objective and constraint functions with closed form solutions for the gradient and the Hessian.\n",
    "\n",
    "Here we are concerned about Linear Programming -- that is for convex optimization problems where both the objective and the constraints are linear."
   ]
  },
  {
   "cell_type": "code",
   "execution_count": 201,
   "metadata": {
    "collapsed": true
   },
   "outputs": [],
   "source": [
    "from cvxopt import matrix, solvers, sparse, sparse, spmatrix, spdiag\n",
    "solvers.options['show_progress'] = False # No logs printed"
   ]
  },
  {
   "cell_type": "markdown",
   "metadata": {},
   "source": [
    "### matrix objects in cvxopt\n",
    "cvxopt has its own *matrix* object which is different from the numpy's one"
   ]
  },
  {
   "cell_type": "code",
   "execution_count": 202,
   "metadata": {},
   "outputs": [
    {
     "name": "stdout",
     "output_type": "stream",
     "text": [
      "[ 1  4]\n",
      "[ 2  5]\n",
      "[ 3  6]\n",
      " ---------- \n",
      " [ 2  5]\n",
      " ---------- \n",
      " [ 6  3]\n",
      "[ 5  2]\n",
      "[ 4  1]\n",
      " ---------- \n",
      " [ 1]\n",
      "[ 2]\n",
      "[ 3]\n",
      "[ 4]\n",
      "\n",
      "---------- \n",
      " (3, 2)\n"
     ]
    }
   ],
   "source": [
    "A = matrix([[1,2,3],[4,5,6]])\n",
    "print(A, '-'*10, '\\n',  A[1,:], '-'*10, '\\n', A[::-1,::-1], '-'*10, '\\n', A[0:4])\n",
    "print('-'*10, '\\n', A.size)"
   ]
  },
  {
   "cell_type": "code",
   "execution_count": 203,
   "metadata": {},
   "outputs": [
    {
     "name": "stdout",
     "output_type": "stream",
     "text": [
      "[ 1  3  5]\n",
      "[ 2  4  6]\n",
      " ---------- \n",
      " [ 1  3]\n",
      "[ 2  4]\n",
      " ---------- \n",
      " [ 1  3  5  1  3 -1 -3 ... ]\n",
      "[ 2  4  6  2  4 -2 -4 ... ]\n",
      " ---------- \n",
      " [  0   4   8  12]\n",
      "[  1   5   9  13]\n",
      "[  2   6  10  14]\n",
      "[  3   7  11  15]\n",
      " ---------- \n",
      " [ 1.00e+00]\n",
      "[ 1.00e+00]\n",
      "[ 1.00e+00]\n",
      "[ 1.00e+00]\n",
      "[ 1.00e+00]\n",
      " ---------- \n",
      " [-2.35e-01 -2.56e-01 -8.68e-01]\n",
      "[-1.94e+00 -4.31e-01  6.52e-02]\n",
      " ---------- \n",
      " [ 0.00e+00]\n",
      "[ 0.00e+00]\n",
      "\n"
     ]
    }
   ],
   "source": [
    "A = matrix([1, 2, 3, 4, 5, 6], (2,3))\n",
    "B = matrix([ [1, 2], [3, 4] ])\n",
    "C = matrix([ [A] ,[B], [-A]])\n",
    "D = matrix(range(16),(4,4))\n",
    "E = matrix(np.ones(5))\n",
    "F = matrix(np.random.randn(2,3))\n",
    "G = matrix(np.zeros(2))\n",
    "print(A,'-'*10, '\\n', B, '-'*10, '\\n', C, '-'*10, '\\n', D, '-'*10, '\\n', E, '-'*10, '\\n', F, '-'*10, '\\n', G)"
   ]
  },
  {
   "cell_type": "code",
   "execution_count": 204,
   "metadata": {},
   "outputs": [
    {
     "name": "stdout",
     "output_type": "stream",
     "text": [
      "[ 1  4]\n",
      "[ 2  5]\n",
      "[ 3  6]\n",
      " ---------- \n",
      " [[1 4]\n",
      " [2 5]\n",
      " [3 6]]\n"
     ]
    }
   ],
   "source": [
    "A = matrix([[1,2,3],[4,5,6]])\n",
    "B = np.array(A)\n",
    "print(A, '-'*10, '\\n', B)"
   ]
  },
  {
   "cell_type": "markdown",
   "metadata": {},
   "source": [
    "### sparse matrix objects\n",
    "cvxopti has its own *sparse matrix* object which is different from the scipy's one"
   ]
  },
  {
   "cell_type": "code",
   "execution_count": 205,
   "metadata": {},
   "outputs": [
    {
     "name": "stdout",
     "output_type": "stream",
     "text": [
      "[ 1.00e+00     0    ]\n",
      "[    0      2.00e+00]\n",
      "[    0         0    ]\n",
      "[    0         0    ]\n",
      " ------------------------------ \n",
      " [ 1.00e+00  3.00e+00  1.00e+00     0    ]\n",
      "[ 2.00e+00  4.00e+00     0      2.00e+00]\n",
      "[ 1.00e+00  3.00e+00     0         0    ]\n",
      "[ 2.00e+00  4.00e+00     0         0    ]\n",
      " ------------------------------ \n",
      " [ 1.00e+00  3.00e+00     0         0         0         0    ]\n",
      "[ 2.00e+00  4.00e+00     0         0         0         0    ]\n",
      "[    0         0     -1.00e+00 -3.00e+00     0         0    ]\n",
      "[    0         0     -2.00e+00 -4.00e+00     0         0    ]\n",
      "[    0         0         0         0      1.00e+00     0    ]\n",
      "[    0         0         0         0         0      2.00e+00]\n",
      " ------------------------------ \n",
      " [ 1.00e+00     0    ]\n",
      "[    0      1.00e+00]\n",
      "\n",
      "[ 1  3]\n",
      "[ 2  4]\n",
      "[-1 -3]\n",
      "[-2 -4]\n",
      " ------------------------------ \n",
      " [ 1  3 -1 -3]\n",
      "[ 2  4 -2 -4]\n",
      " ------------------------------ \n",
      " [ 1.00e+00  3.00e+00 -1.00e+00 -3.00e+00]\n",
      "[ 2.00e+00  4.00e+00 -2.00e+00 -4.00e+00]\n",
      "[-1.00e+00 -3.00e+00  1.00e+00  3.00e+00]\n",
      "[-2.00e+00 -4.00e+00  2.00e+00  4.00e+00]\n",
      "[-1.00e+00  0.00e+00 -1.00e+00  0.00e+00]\n",
      "[ 0.00e+00 -1.00e+00  0.00e+00 -1.00e+00]\n",
      "\n"
     ]
    }
   ],
   "source": [
    "E = spmatrix([1, 2], [0, 1], [0, 1], (4,2)) #(value, row, column)\n",
    "B = matrix([ [1, 2], [3, 4] ])\n",
    "F = sparse([ [B, B], [E] ])\n",
    "G = spdiag([B, -B, 1, 2])\n",
    "H = spdiag([1]*2)\n",
    "K = matrix([B, -B])\n",
    "K2 = matrix([[B], [-B]])\n",
    "J = matrix([[B,-B, -H],[-B, B, -H]])\n",
    "print(E, '-'*30, '\\n', F, '-'*30, '\\n', G, '-'*30, '\\n', H)\n",
    "print(K, '-'*30, '\\n', K2, '-'*30, '\\n', J)"
   ]
  },
  {
   "cell_type": "markdown",
   "metadata": {},
   "source": [
    "## Linear programming in cvxopt (cf. <a href = 'http://cvxopt.org/userguide/coneprog.html#cvxopt.solvers.conelp'> cvxopt conelp solver </a> and <a href = 'http://cvxopt.org/userguide/coneprog.html#linear-programming'> cvxopt lp solver </a>)\n",
    "Linear Programming problems in *cvxopt* have the following form\n",
    "$$\\min \\inr{c,x} \\mbox{ subject to } Gx + s =h, Ax=b, s\\geq 0$$\n",
    "\n",
    "CVXOPT command to solve this problem is \n",
    "\n",
    "> sol = cvxopt.solvers.lp(c, G, h[, A, b[, solver[, primalstart[, dualstart]]]])\n",
    "\n",
    "> sol = sol['x']\n",
    "\n",
    "The **solver** argument is used to choose among three solvers. When it is omitted or None, the CVXOPT function **conelp** is used. The external solvers **GLPK** and **MOSEK** (if installed) can be selected by setting solver to 'glpk' or 'mosek'.\n",
    "\n",
    "Using option 'glpk' speeds up cvxopt by a factor of $2$ or $10$ (cf.  <a href = 'https://scaron.info/blog/linear-programming-in-python-with-cvxopt.html'> Stéphane Caron's webpage </a>)\n"
   ]
  },
  {
   "cell_type": "markdown",
   "metadata": {},
   "source": [
    "# Solving (BP) via cvxopt\n",
    "\n",
    "Let $A\\in\\bR^{m\\times N}$ and $y\\in\\R^m$. (LP) is defined by:\n",
    "\n",
    "> $$(\\hat z^+, \\hat z^-)\\in\\argmin_{(z^+,z^-)\\in\\bR^{2N}} \\sum_{j=1}^n z_i^+ + z_i^-  \\mbox{ subject to } [A|-A]\\left[\\begin{array}{c} z^+\\\\ z^-\\end{array}\\right] = y \\mbox{ and } \\left[\\begin{array}{c} z^+\\\\ z^-\\end{array}\\right]\\geq 0 $$\n",
    "\n",
    "Solution to (BP) is recovered via $t= \\hat z^+- \\hat z^-$.\n",
    "\n",
    "Linear Programming problem considered in cvxopt have the following form: \n",
    "\n",
    "\n",
    "$$\\min \\inr{c,x} \\mbox{ subject to } Gx + s =h, Ax=b, s\\geq 0.$$\n",
    "\n",
    "In the case of (LP) :\n",
    "\n",
    "$$c = \\left[\\begin{array}{c} \\1 \\\\ \\1 \\end{array}\\right]\\in\\R^{2N};\\hspace{1cm} G=-I_{2N}; \\hspace{1cm} h = 0\\in\\R^{2N}; \\hspace{1cm} A = [A|-A]\\in\\R^{m\\times 2N};\\hspace{1cm} b = y\\in\\R^m$$"
   ]
  },
  {
   "cell_type": "markdown",
   "metadata": {},
   "source": [
    "### construction of cvxopt matrices $c, G, h, A, b$"
   ]
  },
  {
   "cell_type": "code",
   "execution_count": 206,
   "metadata": {},
   "outputs": [],
   "source": [
    "def cvx_mat(A, y):\n",
    "    '''A, y: numpy array or cvx matrices\n",
    "    return parameters c, G, h, A, b for CVXOPT solvers.lp method'''\n",
    "    m, N = A.shape\n",
    "    c = np.ones(2 * N)\n",
    "    G = - np.eye(2 * N)\n",
    "    h = np.zeros(2 * N)\n",
    "    A_stack = np.hstack((A,-A))\n",
    "    b = y\n",
    "    return matrix(c), matrix(G), matrix(h), matrix(A_stack), matrix(b)"
   ]
  },
  {
   "cell_type": "code",
   "execution_count": 207,
   "metadata": {
    "scrolled": true
   },
   "outputs": [],
   "source": [
    "N, m, s = 1000, 50, 3\n",
    "A, x = measurement_matrix(m, N), signal(N, s) \n",
    "y = np.dot(A,x)\n",
    "c, G, h, A, b = cvx_mat(A, y)\n",
    "# print(c, '-'*10, '\\n', G,'-'*10, '\\n', h,'-'*10, '\\n', A,'-'*10, '\\n', b)"
   ]
  },
  {
   "cell_type": "markdown",
   "metadata": {},
   "source": [
    "### cvxopt linear solver  <a href=\"http://cvxopt.org/examples/tutorial/lp.html\"> cvx lp </a>"
   ]
  },
  {
   "cell_type": "code",
   "execution_count": 208,
   "metadata": {
    "collapsed": true
   },
   "outputs": [],
   "source": [
    "sol = solvers.lp(c, G, h, A, b)#, solver = 'glpk')\n",
    "sol = sol['x']\n",
    "x_recover = sol[0:N] - sol[N:2*N]"
   ]
  },
  {
   "cell_type": "code",
   "execution_count": 209,
   "metadata": {},
   "outputs": [
    {
     "data": {
      "text/plain": [
       "1.911780944882367e-08"
      ]
     },
     "execution_count": 209,
     "metadata": {},
     "output_type": "execute_result"
    }
   ],
   "source": [
    "np.linalg.norm(matrix(x) - x_recover,2)"
   ]
  },
  {
   "cell_type": "code",
   "execution_count": 210,
   "metadata": {
    "collapsed": true
   },
   "outputs": [],
   "source": [
    "def dist(x, sol):\n",
    "    N = len(x)\n",
    "    x_recover = sol[0:N] - sol[N:2*N]\n",
    "    return np.linalg.norm(matrix(x) - x_recover,2)"
   ]
  },
  {
   "cell_type": "code",
   "execution_count": 244,
   "metadata": {},
   "outputs": [
    {
     "name": "stdout",
     "output_type": "stream",
     "text": [
      "erreur ell_2 = 5.138502565229729e-09\n"
     ]
    }
   ],
   "source": [
    "N, m, s = 500, 80, 10\n",
    "A, x = measurement_matrix(m, N), signal(N, s) \n",
    "y = np.dot(A,x)\n",
    "c, G, h, A, b = cvx_mat(A, y)\n",
    "sol = solvers.lp(c, G, h, A, b)\n",
    "sol = sol['x']\n",
    "x_recover = sol[0:N] - sol[N:2*N]\n",
    "print('erreur ell_2 = {}'.format(dist(x, sol)))"
   ]
  },
  {
   "cell_type": "code",
   "execution_count": 245,
   "metadata": {},
   "outputs": [
    {
     "data": {
      "text/plain": [
       "Text(0.5,1,'reconstruction')"
      ]
     },
     "execution_count": 245,
     "metadata": {},
     "output_type": "execute_result"
    },
    {
     "data": {
      "image/png": "[encoded data removed]",
      "text/plain": [
       "<matplotlib.figure.Figure at 0x12b7ff9e8>"
      ]
     },
     "metadata": {},
     "output_type": "display_data"
    }
   ],
   "source": [
    "fig, (subfig1,subfig2) = plt.subplots(1,2,figsize=(16,7)) # one figure with two horizontal subfigures\n",
    "subfig1.stem(x)\n",
    "subfig1.set_title('signal')\n",
    "subfig2.stem(x_recover)\n",
    "subfig2.set_title('reconstruction')"
   ]
  },
  {
   "cell_type": "markdown",
   "metadata": {},
   "source": [
    "# Phase transition diagrams for (BP)\n",
    "\n",
    "We say that the reconstruction is a success when $||x-x_{recover}||_2\\leq 0.001$"
   ]
  },
  {
   "cell_type": "code",
   "execution_count": 218,
   "metadata": {},
   "outputs": [],
   "source": [
    "def phase_transition_mat(N, nbtest, rand_type = \"gauss\", power = 2):\n",
    "    \"\"\"return a N.N/2 matrix with the number of reconstruction success for every  1\\leq m \\leq N measurements \n",
    "    and sparsity 1\\leq sparsity \\leq N/2\n",
    "    N : ambiant dimension of the signals\n",
    "    nbtest : number of tests for each pixel\"\"\"\n",
    "    # Initialise la matrice\n",
    "    n = int(N/2)\n",
    "    PTM = np.zeros((N,n))\n",
    "    \n",
    "    for m in range(N):\n",
    "        for s in range(n):\n",
    "            for _ in range(nbtest):\n",
    "                A, x = measurement_matrix(m, N), signal(N, s) \n",
    "                y = np.dot(A,x)\n",
    "                c, G, h, A, b = cvx_mat(A, y)\n",
    "                sol = solvers.lp(c, G, h, A, b)\n",
    "                sol = sol['x']\n",
    "                x_recover = sol[0:N] - sol[N:2*N]\n",
    "                if dist(x, sol) <= 10**-3:\n",
    "                    PTM[m,s] += 1\n",
    "    return PTM"
   ]
  },
  {
   "cell_type": "code",
   "execution_count": 219,
   "metadata": {
    "collapsed": true
   },
   "outputs": [],
   "source": [
    "def frontier(mat, nbtest):\n",
    "    \"\"\"construction of the phase transition frontier, i.e. first time the number of success goes below nbtest/2\"\"\"\n",
    "    L = []\n",
    "    N = len(mat)\n",
    "    for s in range(int(N/2)):\n",
    "        P = 0\n",
    "        while mat[P,s]<nbtest/2 and P<N-1:\n",
    "            P = P + 1\n",
    "        L.append(P)\n",
    "    return L"
   ]
  },
  {
   "cell_type": "code",
   "execution_count": 227,
   "metadata": {},
   "outputs": [],
   "source": [
    "N, nbtest = 50, 16\n",
    "mat = phase_transition_mat(N, nbtest)# construction of the matrix with the number of success among nbtest"
   ]
  },
  {
   "cell_type": "code",
   "execution_count": 228,
   "metadata": {},
   "outputs": [
    {
     "data": {
      "text/plain": [
       "<matplotlib.legend.Legend at 0x127382a90>"
      ]
     },
     "execution_count": 228,
     "metadata": {},
     "output_type": "execute_result"
    },
    {
     "data": {
      "image/png": "[encoded data removed]",
      "text/plain": [
       "<matplotlib.figure.Figure at 0x125440da0>"
      ]
     },
     "metadata": {},
     "output_type": "display_data"
    }
   ],
   "source": [
    "P_min, P_max, S_min, S_max = 0, N, 0, int(N/2)\n",
    "fig = plt.imshow(mat[P_min:P_max, S_min:S_max], interpolation=\"gaussian\",  \n",
    "                 aspect='auto', origin = 'lower', extent=[S_min, S_max, P_min, P_max])\n",
    "plt.xlabel('sparsity')\n",
    "plt.ylabel('number of measurements')\n",
    "\n",
    "#empirical phase transition\n",
    "X = range(int(N/2))\n",
    "L = frontier(mat, nbtest)\n",
    "plt.plot(X,L, linewidth=4, color = 'black', label='phase transition')\n",
    "plt.legend(loc=4)\n",
    "\n",
    "#filename = 'noisy_gaussian_{}_eps_{}.png'.format(n, eps)\n",
    "#plt.savefig(filename,bbox_inches='tight')"
   ]
  },
  {
   "cell_type": "markdown",
   "metadata": {},
   "source": [
    "### Repeat the construction of the frontier *nb_curves* times to \"smooth it\"\n",
    "\n",
    "> nb_curves: number of phase transition curves constructed. Those curves are then averaged to \"smooth\" the effect of randomness in phase transition and get a \"stable\" phase transition"
   ]
  },
  {
   "cell_type": "code",
   "execution_count": 246,
   "metadata": {},
   "outputs": [
    {
     "name": "stdout",
     "output_type": "stream",
     "text": [
      "step 0 done\n",
      "step 1 done\n",
      "step 2 done\n",
      "step 3 done\n",
      "step 4 done\n",
      "step 5 done\n",
      "step 6 done\n",
      "step 7 done\n",
      "step 8 done\n",
      "step 9 done\n"
     ]
    }
   ],
   "source": [
    "N, eps, nbtest = 26, 0.1, 8\n",
    "nb_curves = 10\n",
    "L = np.zeros(int(N/2))\n",
    "for i in range(nb_curves):\n",
    "    #if (i % 10) == 0:\n",
    "    print('step {} done'.format(i))\n",
    "    mat = phase_transition_mat(N, nbtest)\n",
    "    F = frontier(mat, nbtest)\n",
    "    L = [sum(a) for a in zip(L,F)] \n",
    "L_gauss = [i/nb_curves for i in L]"
   ]
  },
  {
   "cell_type": "code",
   "execution_count": 253,
   "metadata": {},
   "outputs": [
    {
     "ename": "FileNotFoundError",
     "evalue": "[Errno 2] No such file or directory: 'phase_transition_diagram_N_{}_nbtest_{}_nbcurves.p'",
     "output_type": "error",
     "traceback": [
      "\u001b[0;31m---------------------------------------------------------------------------\u001b[0m",
      "\u001b[0;31mFileNotFoundError\u001b[0m                         Traceback (most recent call last)",
      "\u001b[0;32m<ipython-input-253-e7a9d8a8b482>\u001b[0m in \u001b[0;36m<module>\u001b[0;34m()\u001b[0m\n\u001b[1;32m      7\u001b[0m \u001b[0;31m#import the phase transition diagram\u001b[0m\u001b[0;34m\u001b[0m\u001b[0;34m\u001b[0m\u001b[0;34m\u001b[0m\u001b[0m\n\u001b[1;32m      8\u001b[0m \u001b[0mfilename\u001b[0m \u001b[0;34m=\u001b[0m \u001b[0;34m'phase_transition_diagram_N_{}_nbtest_{}_nbcurves.p'\u001b[0m\u001b[0;34m\u001b[0m\u001b[0;34m\u001b[0m\u001b[0m\n\u001b[0;32m----> 9\u001b[0;31m \u001b[0;32mwith\u001b[0m \u001b[0mopen\u001b[0m\u001b[0;34m(\u001b[0m\u001b[0mfilename\u001b[0m\u001b[0;34m,\u001b[0m \u001b[0;34m\"rb\"\u001b[0m\u001b[0;34m)\u001b[0m \u001b[0;32mas\u001b[0m \u001b[0minputfile\u001b[0m\u001b[0;34m:\u001b[0m\u001b[0;34m\u001b[0m\u001b[0;34m\u001b[0m\u001b[0m\n\u001b[0m\u001b[1;32m     10\u001b[0m     \u001b[0mL_gauss\u001b[0m \u001b[0;34m=\u001b[0m \u001b[0mpickle\u001b[0m\u001b[0;34m.\u001b[0m\u001b[0mload\u001b[0m\u001b[0;34m(\u001b[0m\u001b[0minputfile\u001b[0m\u001b[0;34m)\u001b[0m\u001b[0;34m\u001b[0m\u001b[0;34m\u001b[0m\u001b[0m\n\u001b[1;32m     11\u001b[0m \u001b[0mL_gauss\u001b[0m \u001b[0;34m=\u001b[0m \u001b[0;34m[\u001b[0m\u001b[0mint\u001b[0m\u001b[0;34m(\u001b[0m\u001b[0mfloat\u001b[0m\u001b[0;34m(\u001b[0m\u001b[0mele\u001b[0m\u001b[0;34m[\u001b[0m\u001b[0;36m0\u001b[0m\u001b[0;34m]\u001b[0m\u001b[0;34m)\u001b[0m\u001b[0;34m)\u001b[0m \u001b[0;32mfor\u001b[0m \u001b[0mele\u001b[0m \u001b[0;32min\u001b[0m \u001b[0mL_gauss\u001b[0m\u001b[0;34m]\u001b[0m\u001b[0;34m\u001b[0m\u001b[0;34m\u001b[0m\u001b[0m\n",
      "\u001b[0;31mFileNotFoundError\u001b[0m: [Errno 2] No such file or directory: 'phase_transition_diagram_N_{}_nbtest_{}_nbcurves.p'"
     ]
    }
   ],
   "source": [
    "#For next use, save the Gaussian phase transition frontier in a txt file \n",
    "import pickle\n",
    "filename = 'phase_transition_diagram_N_{}_nbtest_{}_nbcurves.p'.format(N, nbtest, nb_curves)\n",
    "with open(abspath, \"wb\") as f:\n",
    "    pickle.dump(L_gauss, f)\n",
    "\n",
    "#import the phase transition diagram\n",
    "filename = 'phase_transition_diagram_N_{}_nbtest_{}_nbcurves.p'\n",
    "with open(filename, \"rb\") as inputfile:\n",
    "    L_gauss = pickle.load(inputfile)\n",
    "L_gauss = [int(float(ele[0])) for ele in L_gauss]"
   ]
  },
  {
   "cell_type": "markdown",
   "metadata": {},
   "source": [
    "### Draw the phase transition frontier of the Basis Pursuit procedure (via cvx.lp) for Gaussian measurements"
   ]
  },
  {
   "cell_type": "code",
   "execution_count": 254,
   "metadata": {},
   "outputs": [
    {
     "data": {
      "text/plain": [
       "<matplotlib.legend.Legend at 0x12c817eb8>"
      ]
     },
     "execution_count": 254,
     "metadata": {},
     "output_type": "execute_result"
    },
    {
     "data": {
      "image/png": "[encoded data removed]",
      "text/plain": [
       "<matplotlib.figure.Figure at 0x12c817ef0>"
      ]
     },
     "metadata": {},
     "output_type": "display_data"
    }
   ],
   "source": [
    "X = range(len(L_gauss))\n",
    "plt.plot(X,L_gauss, linewidth=4, color = 'blue', label=\"Gaussian phase transition\")\n",
    "\n",
    "plt.xlabel('sparsity')\n",
    "plt.ylabel('number of measurements')\n",
    "plt.legend(loc=4)\n",
    "#filename = 'gaussian_phase_transition_quantized_cs_{}_eps_{}.png'.format(n, eps)\n",
    "#plt.savefig(filename,bbox_inches='tight')"
   ]
  },
  {
   "cell_type": "markdown",
   "metadata": {
    "collapsed": true
   },
   "source": [
    "# Measurement matrices used in the proof of the NP-hardness of the $\\ell_0$-minimization procedure\n",
    "\n",
    "NP-hardness of the $\\ell_0$-minimization procedure is based on a reduction principle. One can tranform the $\\ell_0$-minimization problem in polynomial time into a \"classical\" NP-complete problem: the **cover by $3$-sets problem**.\n",
    "\n",
    "*Cover by $3$-sets problem*: given a collection $\\cC=\\{C_1, \\ldots, C_N\\}$ of subsets of $\\{1,\\ldots,m\\}$ all of cardinality $3$, is it possible to answer the question about the existence of a partition of $\\{1,\\ldots,m\\}$ within this collection?\n",
    "\n",
    "To prove that $\\ell_0$-minimization problem can be reduced to the cover by $3$-sets problem, one can consider the following measurement vector\n",
    "$$\n",
    "y = \\left(\n",
    "\\begin{array}{c}\n",
    "1\\\\\n",
    "1\\\\\n",
    "\\vdots\\\\\n",
    "1\\\\\n",
    "\\end{array}\n",
    "\\right)\n",
    "$$\n",
    "and a measurement matrix:\n",
    "$$\n",
    "A=[1_{C_1}| \\cdots | 1_{C_N}]\n",
    "$$\n",
    "where $1_{C_1}$ is a vector in $\\R^m$ such that $(1_{C_1})_i = 1$ if $i\\in C_1$ and $0$ if $i\\notin C_1$. \n",
    "\n",
    "One can see that a solution to the $\\ell_0$-minimization procedure $\\hat x_0$ obtained from $y$ and $A$ can be used to answer the *cover by $3$-sets problem*: if $\\norm{\\hat x_0}=m/3$ then there is a partition of $\\{1,\\ldots,m\\}$ in the collection $\\cC$; if $\\norm{\\hat x_0}>m/3$ then there is no such a partition (and one can show that necessarily  $\\norm{\\hat x_0}\\geq m/3$).\n",
    "\n",
    "Hence solving the $\\ell_0$-minimization procedure for this $y$ and $A$ can be reduced in polynomial time to a solution of an NP-complete problem (and so by definition $\\ell_0$-minimization is an NP-Hard problem)."
   ]
  },
  {
   "cell_type": "markdown",
   "metadata": {},
   "source": [
    "## Phase transition of (BP) for the $0-1$ matrix $A$\n",
    "We construct matrices $A$ introduced in the last paragraph in the two cases: either there is a partition and so the solution of the $\\ell_0$-minimization problem should have a support of size $m/3$ either there is no partition and so $\\hat x_0$ should have a strictly larger support. \n",
    "\n",
    "We want to check the performances of (BP) in this setup. We expect it to fail otherwise this would give a polynomial time algorithm to solve an NP-hard problem."
   ]
  },
  {
   "cell_type": "code",
   "execution_count": 51,
   "metadata": {
    "collapsed": true
   },
   "outputs": [],
   "source": [
    "def measurement_mat_partition(N, m, partition = 'yes', shuffling = 'yes'):\n",
    "    \"\"\"Construct the matrices used in the proof of the NP-hardness of \\ell_0 in the two cases\"\"\"\n",
    "    \n",
    "    if partition = 'yes':\n",
    "    else: \n",
    "    \n",
    "    return A"
   ]
  },
  {
   "cell_type": "code",
   "execution_count": 52,
   "metadata": {
    "collapsed": true
   },
   "outputs": [],
   "source": [
    "def measures_vectors(m):\n",
    "    return np.ones(m)"
   ]
  },
  {
   "cell_type": "code",
   "execution_count": 55,
   "metadata": {},
   "outputs": [
    {
     "data": {
      "text/plain": [
       "<Container object of 3 artists>"
      ]
     },
     "execution_count": 55,
     "metadata": {},
     "output_type": "execute_result"
    },
    {
     "data": {
      "image/png": "[encoded data removed]",
      "text/plain": [
       "<matplotlib.figure.Figure at 0x10eef8d68>"
      ]
     },
     "metadata": {},
     "output_type": "display_data"
    }
   ],
   "source": [
    "N, m = 500, 3*20\n",
    "A = measurement_mat_partition(N, m, partition = 'yes', shuffling ='no') \n",
    "y = measures_vectors(m)\n",
    "c, G, h, A, b = cvx_mat(A, y)\n",
    "sol = solvers.lp(c, G, h, A, b)\n",
    "sol = sol['x']\n",
    "x_recover = sol[0:N] - sol[N:2*N]\n",
    "plt.stem(x_recover)"
   ]
  },
  {
   "cell_type": "markdown",
   "metadata": {},
   "source": [
    "Basis Pursuit does not work for this type of $0-1$ valued measurement matrices."
   ]
  },
  {
   "cell_type": "code",
   "execution_count": null,
   "metadata": {
    "collapsed": true
   },
   "outputs": [],
   "source": []
  }
 ],
 "metadata": {
  "kernelspec": {
   "display_name": "Python 3",
   "language": "python",
   "name": "python3"
  },
  "language_info": {
   "codemirror_mode": {
    "name": "ipython",
    "version": 3
   },
   "file_extension": ".py",
   "mimetype": "text/x-python",
   "name": "python",
   "nbconvert_exporter": "python",
   "pygments_lexer": "ipython3",
   "version": "3.6.7"
  }
 },
 "nbformat": 4,
 "nbformat_minor": 1
}
