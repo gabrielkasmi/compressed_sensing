{
 "cells": [
  {
   "cell_type": "markdown",
   "metadata": {},
   "source": [
    "ENSAE 3A 2019-2020\n",
    "\n",
    "Hugo Thimonier, Gabriel Kasmi"
   ]
  },
  {
   "cell_type": "markdown",
   "metadata": {},
   "source": [
    "# Compressed sensing\n",
    "## Generative models for compressed sensing and their extensions\n",
    "\n",
    "This notebook reproduces some of the key results derived by Bora et. al. 2017 and Dhar et. al. 2018. "
   ]
  },
  {
   "cell_type": "markdown",
   "metadata": {},
   "source": [
    "Our replications are conducted on the MNIST dataset using a LASSO reconstruction technique (aka sparse recovery) in section 1 and a custom-made generative method based on the paper and our home-made GAN trained on the MNIST dataset. For more information regarding the training of the generative model, see the notebook ```train_mnist_gan```."
   ]
  },
  {
   "cell_type": "markdown",
   "metadata": {},
   "source": [
    "## 0. Load and import the dataset"
   ]
  },
  {
   "cell_type": "code",
   "execution_count": 1,
   "metadata": {
    "collapsed": true
   },
   "outputs": [],
   "source": [
    "import numpy as np\n",
    "import matplotlib.pylab as plt\n",
    "from sklearn.utils import shuffle\n",
    "\n",
    "%matplotlib inline"
   ]
  },
  {
   "cell_type": "code",
   "execution_count": 2,
   "metadata": {
    "collapsed": true
   },
   "outputs": [],
   "source": [
    "import cvxpy as cvx"
   ]
  },
  {
   "cell_type": "code",
   "execution_count": 3,
   "metadata": {},
   "outputs": [
    {
     "name": "stderr",
     "output_type": "stream",
     "text": [
      "Using TensorFlow backend.\n",
      "/Users/Gabriel/anaconda3/lib/python3.6/site-packages/tensorflow/python/framework/dtypes.py:523: FutureWarning: Passing (type, 1) or '1type' as a synonym of type is deprecated; in a future version of numpy, it will be understood as (type, (1,)) / '(1,)type'.\n",
      "  _np_qint8 = np.dtype([(\"qint8\", np.int8, 1)])\n",
      "/Users/Gabriel/anaconda3/lib/python3.6/site-packages/tensorflow/python/framework/dtypes.py:524: FutureWarning: Passing (type, 1) or '1type' as a synonym of type is deprecated; in a future version of numpy, it will be understood as (type, (1,)) / '(1,)type'.\n",
      "  _np_quint8 = np.dtype([(\"quint8\", np.uint8, 1)])\n",
      "/Users/Gabriel/anaconda3/lib/python3.6/site-packages/tensorflow/python/framework/dtypes.py:525: FutureWarning: Passing (type, 1) or '1type' as a synonym of type is deprecated; in a future version of numpy, it will be understood as (type, (1,)) / '(1,)type'.\n",
      "  _np_qint16 = np.dtype([(\"qint16\", np.int16, 1)])\n",
      "/Users/Gabriel/anaconda3/lib/python3.6/site-packages/tensorflow/python/framework/dtypes.py:526: FutureWarning: Passing (type, 1) or '1type' as a synonym of type is deprecated; in a future version of numpy, it will be understood as (type, (1,)) / '(1,)type'.\n",
      "  _np_quint16 = np.dtype([(\"quint16\", np.uint16, 1)])\n",
      "/Users/Gabriel/anaconda3/lib/python3.6/site-packages/tensorflow/python/framework/dtypes.py:527: FutureWarning: Passing (type, 1) or '1type' as a synonym of type is deprecated; in a future version of numpy, it will be understood as (type, (1,)) / '(1,)type'.\n",
      "  _np_qint32 = np.dtype([(\"qint32\", np.int32, 1)])\n",
      "/Users/Gabriel/anaconda3/lib/python3.6/site-packages/tensorflow/python/framework/dtypes.py:532: FutureWarning: Passing (type, 1) or '1type' as a synonym of type is deprecated; in a future version of numpy, it will be understood as (type, (1,)) / '(1,)type'.\n",
      "  np_resource = np.dtype([(\"resource\", np.ubyte, 1)])\n"
     ]
    }
   ],
   "source": [
    "from keras.datasets.mnist import load_data\n",
    "(trainX, trainy), (testX, testy) = load_data()\n"
   ]
  },
  {
   "cell_type": "code",
   "execution_count": 4,
   "metadata": {
    "collapsed": true
   },
   "outputs": [],
   "source": [
    "# We wont reconstruct all images but only a subset of n_img of it\n",
    "n_img = 10\n",
    "images = trainX[:n_img]"
   ]
  },
  {
   "cell_type": "markdown",
   "metadata": {},
   "source": [
    "## 1. Reconstruction using LASSO (sparse recovery)"
   ]
  },
  {
   "cell_type": "markdown",
   "metadata": {},
   "source": [
    "In this first section, we reconstruct using the LASSO with 50, 100 and 500 measurements. As it can be seen below, the reconstruction peforms poorly with few measurements but is better when the number of measurements increase. "
   ]
  },
  {
   "cell_type": "code",
   "execution_count": 122,
   "metadata": {
    "collapsed": true
   },
   "outputs": [],
   "source": [
    "import math\n",
    "\n",
    "# set the dimension of the signal space (28*28 (* 1))\n",
    "n = 784\n",
    "\n",
    "# Define the basis pursuit algorithm for sparse recovery\n",
    "def basis_pursuit(n, A, y):\n",
    "    \"\"\"\n",
    "    this function implements the basis pursuit algorithm given a\n",
    "    measurement matrix, a dimension n of the signal space and\n",
    "    a measurement y (with dimension m << n)\n",
    "    \n",
    "    arguments:\n",
    "    - ``n`` integer corresponding to the dimension of the signal \n",
    "    space\n",
    "    - ``A`` a m*n measurement matrix\n",
    "    - ``y`` a signal of dimension m*1\n",
    "    \"\"\"\n",
    "    P, q = np.array(A), np.array(y).astype(np.double).flatten()\n",
    "    # control variable\n",
    "    x = cvx.Variable(n)\n",
    "    # objective function\n",
    "    obj = cvx.Minimize(cvx.norm(x,1))\n",
    "    # constraint\n",
    "    const = [P * x == q]\n",
    "    # definition of the optimisation problem\n",
    "    prob = cvx.Problem(obj,const)\n",
    "    result = prob.solve()\n",
    "\n",
    "    return x.value\n",
    "\n",
    "def generate_lasso(m, n, x_star):\n",
    "    \"\"\"\n",
    "    this function generates a noisy observation from a signal x_star \n",
    "    and performs the reconstruction using the BP algorithm \n",
    "    \n",
    "    arguments:\n",
    "    - `m` the number of measurements\n",
    "    - `n` the dimension of the signal space\n",
    "    -`x_star` the signal we wish to reconstruct\n",
    "    \n",
    "    Returns the value of \"x_hat\" i.e. the reconstruction of\n",
    "    x_star using LASSO.\n",
    "    \"\"\"\n",
    "    \n",
    "    # generate a gaussian measurement matrix\n",
    "    # mean = 0 and variance 1 / m (as in the article)\n",
    "    A = np.random.normal(0,1/math.sqrt(m),(m,n)).squeeze()\n",
    "    \n",
    "    # gaussian noise\n",
    "    noise = np.random.normal(0,1,(m,))\n",
    "\n",
    "    # generate the measurement\n",
    "    y = np.dot(A,x_star) + noise\n",
    "    \n",
    "    return basis_pursuit(n, A, y)\n"
   ]
  },
  {
   "cell_type": "code",
   "execution_count": 134,
   "metadata": {
    "collapsed": true
   },
   "outputs": [],
   "source": [
    "# three lists of reconstructed signals with 50, 100 and 500 measurements.\n",
    "\n",
    "outputs_lasso_25 = [generate_lasso(50, n, np.reshape(x_star,-1)) for x_star in images]\n",
    "outputs_lasso_100 = [generate_lasso(100, n, np.reshape(x_star,-1)) for x_star in images]\n",
    "outputs_lasso_500 = [generate_lasso(500, n, np.reshape(x_star,-1)) for x_star in images]"
   ]
  },
  {
   "cell_type": "code",
   "execution_count": 135,
   "metadata": {},
   "outputs": [
    {
     "data": {
      "image/png": "[encoded data removed]",
      "text/plain": [
       "<matplotlib.figure.Figure at 0x133d09588>"
      ]
     },
     "metadata": {},
     "output_type": "display_data"
    }
   ],
   "source": [
    "# Plots\n",
    "fig, ax = plt.subplots(4, n_img, figsize=(15,9))\n",
    "for j in range(n_img):\n",
    "    ax[0,j].imshow(images[j], cmap ='gray_r')\n",
    "    ax[1,j].imshow(outputs_lasso_25[j].reshape(28,28), cmap ='gray_r')\n",
    "    ax[2,j].imshow(outputs_lasso_100[j].reshape(28,28), cmap ='gray_r')\n",
    "    ax[3,j].imshow(outputs_lasso_500[j].reshape(28,28), cmap ='gray_r')\n",
    "    ax[0,j].set_xticks([])\n",
    "    ax[0,j].set_yticks([])\n",
    "    ax[1,j].set_xticks([])\n",
    "    ax[1,j].set_yticks([])\n",
    "    ax[2,j].set_xticks([])\n",
    "    ax[2,j].set_yticks([])    \n",
    "    ax[3,j].set_xticks([])\n",
    "    ax[3,j].set_yticks([])    \n",
    "fig.suptitle('''Top: Original digits\n",
    "2nd line: 25 measurements\n",
    "2rd line: 100 measurements\n",
    "Bottom: 500 measurements''', y = 1.1)\n",
    "plt.show()"
   ]
  },
  {
   "cell_type": "code",
   "execution_count": 143,
   "metadata": {
    "collapsed": true
   },
   "outputs": [],
   "source": [
    "def measurement_error(x_hat, x_star):\n",
    "    \"\"\"\n",
    "    computes the l2 norm between the reconstruction\n",
    "    and the source signal\n",
    "    \n",
    "    arguments: \n",
    "    - `x_hat`: the reconstructed signal\n",
    "    -`x_star` : the source image. Should be in 2d 28*28 format)\n",
    "    \n",
    "    returns the l2 error between x_hat and x_star\n",
    "    \"\"\"\n",
    "    \n",
    "    return np.linalg.norm(x_hat - np.reshape(x_star, -1))"
   ]
  },
  {
   "cell_type": "code",
   "execution_count": 157,
   "metadata": {},
   "outputs": [
    {
     "data": {
      "image/png": "[encoded data removed]",
      "text/plain": [
       "<matplotlib.figure.Figure at 0x10b8450f0>"
      ]
     },
     "metadata": {},
     "output_type": "display_data"
    }
   ],
   "source": [
    "# compute and plot the measurement error for the three reconstructions \n",
    "\n",
    "measurement = [25, 100 , 500]\n",
    "outputs = [outputs_lasso_25, outputs_lasso_100, outputs_lasso_500]\n",
    "\n",
    "errors = []\n",
    "for item in outputs:\n",
    "    errors.append(np.mean([measurement_error(item[j], images[j]) for j in range(n_img)]))\n",
    "\n",
    "plt.plot(measurement, errors)\n",
    "plt.xlabel(\"Measurements\")\n",
    "plt.ylabel(\"Error\")\n",
    "plt.title(\"$\\ell_2$ error with sparse recovery\")\n",
    "plt.show()"
   ]
  },
  {
   "cell_type": "markdown",
   "metadata": {},
   "source": [
    "The shape of the decaying loss function matches that of Bora et al (fig. 1. (a))"
   ]
  },
  {
   "cell_type": "markdown",
   "metadata": {},
   "source": [
    "## 2. Reconstruction using generative models"
   ]
  },
  {
   "cell_type": "markdown",
   "metadata": {},
   "source": [
    "Let us now reconstruct the same images but using the generative method of Bora et. al. (2017)."
   ]
  },
  {
   "cell_type": "code",
   "execution_count": 5,
   "metadata": {},
   "outputs": [
    {
     "name": "stderr",
     "output_type": "stream",
     "text": [
      "/Users/Gabriel/anaconda3/lib/python3.6/site-packages/keras/engine/saving.py:292: UserWarning: No training configuration found in save file: the model was *not* compiled. Compile it manually.\n",
      "  warnings.warn('No training configuration found in save file: '\n"
     ]
    }
   ],
   "source": [
    "import keras\n",
    "# Import the model\n",
    "gan_mnist = keras.models.load_model('generator_model_100.h5')"
   ]
  },
  {
   "cell_type": "markdown",
   "metadata": {},
   "source": [
    "### Définition des fonctions permettant de reconstruire le signal "
   ]
  },
  {
   "cell_type": "code",
   "execution_count": 6,
   "metadata": {
    "collapsed": true
   },
   "outputs": [],
   "source": [
    "from keras import backend as K\n",
    "import tensorflow as tf\n",
    "from keras.optimizers import Adam\n",
    "\n",
    "def generate_measured_signal(m, n, X_star):\n",
    "    \"\"\"\n",
    "    this function takes an image and turns it into a noisy signal. \n",
    "    \n",
    "    Arguments\n",
    "    - m the number of measurements\n",
    "    - n the dimension of the signal space\n",
    "    - X_star the signal to reconstruct\n",
    "    - regularization a boolean on whether or not to include \n",
    "    a regularization in the loss function\n",
    "    \"\"\"\n",
    "    # Define the measurement matrix\n",
    "    A_ = K.random_normal_variable(shape=(m, n), mean=0, scale=1/math.sqrt(m))\n",
    "    \n",
    "    # Initialize the tf session \n",
    "    sess = tf.InteractiveSession()\n",
    "    sess.run(tf.global_variables_initializer())    \n",
    "\n",
    "    # Define the observation noise\n",
    "    neta = np.random.normal(loc=0.0, scale=.1/math.sqrt(m), size=(m,))\n",
    "    # Convert the measurement matrix to a numpy array and reshape the input vector\n",
    "    A_np = A_.eval()\n",
    "    x_flatten = np.reshape(X_star,-1)\n",
    "\n",
    "    # Compute the noisy signal \n",
    "    y = np.dot(A_np,x_flatten) + neta \n",
    "    sess.close()\n",
    "    \n",
    "    return y, A_\n",
    "\n",
    "def custom_loss(generator, x, y, A_, lambda__ = 0.1, regularization = True):\n",
    "    \n",
    "    '''\n",
    "    function that return the loss used in the paper\n",
    "    \n",
    "    Arguments :\n",
    "    - generator : the generator considered\n",
    "    - x : the input vector for the generator\n",
    "    - y : the true y\n",
    "    - lambda__: regularization term\n",
    "    - regularization : boolean for regularization\n",
    "    \n",
    "    '''\n",
    "    if regularization: \n",
    "        loss = np.linalg.norm(np.dot(A_.eval(),\n",
    "                                     np.reshape(generator.predict(x)[0,:,:,0], -1)) - y) + lambda__*np.linalg.norm(x)\n",
    "    else :\n",
    "        loss = np.linalg.norm(np.dot(A_.eval(),\n",
    "                                     np.reshape(generator.predict(x)[0,:,:,0], -1)) - y)  \n",
    "    return loss\n",
    "\n",
    "def sens(generator, A_, y , lambda_ = 0.1, m = 50, n = 784, eta = 0.01, n_steps = 100, regularization = True):\n",
    "    \"\"\"\n",
    "    gradient descent to get the latent vector \n",
    "    \n",
    "    Arguments :\n",
    "    - generator : the generator considered\n",
    "    - A_ : gaussian matrix considered\n",
    "    - y : the signal \n",
    "    - lambda_: regularization term\n",
    "    - m : the number of measurements\n",
    "    - n : the dimension of the signal space\n",
    "    - eta : learning rate\n",
    "    - n_steps : number of iteration in the gradient descent\n",
    "    - regularization : boolean for regularization\n",
    "    \n",
    "    Output : \n",
    "    predicted latent vector for signal y\n",
    "    \"\"\"\n",
    "    \n",
    "    target = K.constant(y)    \n",
    "    if regularization :\n",
    "    # on calcule la loss\n",
    "        loss = K.square(tf.norm(K.dot(A_, K.reshape(gan_mnist.output,shape=(784, 1))) - target, ord='euclidean')) + lambda_*tf.norm(generator.input, ord='euclidean') \n",
    "    else :\n",
    "        loss = K.square(tf.norm(K.dot(A_, K.reshape(gan_mnist.output,shape=(784, 1))) - target, ord='euclidean')) + 0*tf.norm(generator.input, ord='euclidean')\n",
    "        \n",
    "    gradients = K.gradients(loss, generator.input)\n",
    "    z_best = np.asarray([[np.random.uniform(100) for _ in range(100)]])\n",
    "    \n",
    "    # sample 10 vector in the latent space\n",
    "    for _ in range(10):\n",
    "        z = np.asarray([[np.random.uniform(100) for _ in range(100)]])\n",
    "    \n",
    "        for __ in range(n_steps):\n",
    "        \n",
    "            sess = tf.InteractiveSession()\n",
    "            sess.run(tf.global_variables_initializer())\n",
    "            evaluated_gradient = sess.run(gradients,feed_dict={generator.input:z})\n",
    "            z -= eta * evaluated_gradient[0][0]\n",
    "            \n",
    "        if regularization :\n",
    "            if custom_loss(generator, z, y, A_, lambda__ = lambda_) < custom_loss(generator, z_best, y, A_, lambda__ = lambda_):\n",
    "                z_best = z\n",
    "        else : \n",
    "            if custom_loss(generator, z, y, A_, lambda__ = 0) < custom_loss(generator, z_best, y, A_, lambda__ = 0):\n",
    "                z_best = z\n",
    "    sess.close()\n",
    "    return z_best"
   ]
  },
  {
   "cell_type": "code",
   "execution_count": 7,
   "metadata": {
    "collapsed": true
   },
   "outputs": [],
   "source": [
    "def generate_gan(m, n, X_star, generator, n_steps = 100):\n",
    "    \"\"\"\n",
    "    todo\n",
    "    \"\"\"\n",
    "    y, A_ = generate_measured_signal(m, n, X_star)\n",
    "    z_opt = sens(generator, A_, y, n_steps = n_steps, regularization = True, m = m, n = n)\n",
    "    \n",
    "    return generator.predict(z_opt)"
   ]
  },
  {
   "cell_type": "code",
   "execution_count": null,
   "metadata": {
    "collapsed": true
   },
   "outputs": [],
   "source": [
    "import warnings\n",
    "warnings.simplefilter('ignore')\n",
    "n = 28*28\n",
    "\n",
    "outputs_lasso_25 = [generate_gan(50, n, x_star, gan_mnist, n_steps = 100) for x_star in images]\n",
    "#outputs_lasso_100 = [generate_gan(100, n, x_star, gan_mnist, n_steps = 1) for x_star in images]\n",
    "#outputs_lasso_500 = [generate_gan(500, n, x_star, gan_mnist, n_steps = 1) for x_star in images]"
   ]
  },
  {
   "cell_type": "code",
   "execution_count": null,
   "metadata": {
    "collapsed": true
   },
   "outputs": [],
   "source": [
    "# Plots\n",
    "fig, ax = plt.subplots(4, n_img, figsize=(15,9))\n",
    "for j in range(n_img):\n",
    "    ax[0,j].imshow(images[j], cmap ='gray_r')\n",
    "    ax[1,j].imshow(outputs_lasso_25[j][0,:,:,0], cmap ='gray_r')\n",
    "#    ax[2,j].imshow(outputs_lasso_100[j][0,:,:,0], cmap ='gray_r')\n",
    "#    ax[3,j].imshow(outputs_lasso_500[j][0,:,:,0], cmap ='gray_r')\n",
    "    ax[0,j].set_xticks([])\n",
    "    ax[0,j].set_yticks([])\n",
    "    ax[1,j].set_xticks([])\n",
    "    ax[1,j].set_yticks([])\n",
    "#    ax[2,j].set_xticks([])\n",
    "#    ax[2,j].set_yticks([])    \n",
    "#    ax[3,j].set_xticks([])\n",
    "#    ax[3,j].set_yticks([])    \n",
    "fig.suptitle('''Top: Original digits\n",
    "2nd line: 25 measurements\n",
    "2rd line: 100 measurements\n",
    "Bottom: 500 measurements''', y = 1.1)\n",
    "plt.show()"
   ]
  },
  {
   "cell_type": "code",
   "execution_count": null,
   "metadata": {
    "collapsed": true
   },
   "outputs": [],
   "source": []
  }
 ],
 "metadata": {
  "@webio": {
   "lastCommId": null,
   "lastKernelId": null
  },
  "kernelspec": {
   "display_name": "Python 3",
   "language": "python",
   "name": "python3"
  },
  "language_info": {
   "codemirror_mode": {
    "name": "ipython",
    "version": 3
   },
   "file_extension": ".py",
   "mimetype": "text/x-python",
   "name": "python",
   "nbconvert_exporter": "python",
   "pygments_lexer": "ipython3",
   "version": "3.6.7"
  }
 },
 "nbformat": 4,
 "nbformat_minor": 2
}
